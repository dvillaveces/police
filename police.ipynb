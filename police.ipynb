{
 "cells": [
  {
   "cell_type": "code",
   "execution_count": 1,
   "metadata": {},
   "outputs": [],
   "source": [
    "import numpy as np\n",
    "import pandas as pd\n",
    "import tweepy, json\n",
    "from itertools import zip_longest\n",
    "\n",
    "pd.set_option('max_colwidth',280)"
   ]
  },
  {
   "cell_type": "markdown",
   "metadata": {},
   "source": [
    "## Load Twitter data"
   ]
  },
  {
   "cell_type": "code",
   "execution_count": 2,
   "metadata": {},
   "outputs": [],
   "source": [
    "# open file with scraped tweet ids\n",
    "with open('all_ids.json', 'r') as json_file:\n",
    "    tweet_ids = json.load(json_file)"
   ]
  },
  {
   "cell_type": "code",
   "execution_count": 3,
   "metadata": {},
   "outputs": [],
   "source": [
    "# authorize and initialize API\n",
    "access_token = ''\n",
    "access_token_secret = ''\n",
    "consumer_key = ''\n",
    "consumer_secret = ''\n",
    "\n",
    "auth = tweepy.OAuthHandler(consumer_key, consumer_secret)\n",
    "auth.set_access_token(access_token, access_token_secret)\n",
    "api = tweepy.API(auth, wait_on_rate_limit=True)"
   ]
  },
  {
   "cell_type": "code",
   "execution_count": 4,
   "metadata": {},
   "outputs": [],
   "source": [
    "def grouper(iterable, n, fillvalue=None):\n",
    "    \"\"\"Collect data into fixed-length chunks or blocks\n",
    "    grouper('ABCDEFG', 3, 'x') --> ABC DEF Gxx\"\"\"\n",
    "    args = [iter(iterable)] * n\n",
    "    return zip_longest(*args, fillvalue=fillvalue)"
   ]
  },
  {
   "cell_type": "code",
   "execution_count": 7,
   "metadata": {},
   "outputs": [],
   "source": [
    "# iterate over 100-id chunks and get date and text for each tweet id\n",
    "tweet_dates = []\n",
    "tweet_texts = []\n",
    "for chunk in grouper(tweet_ids, 100):\n",
    "    statuses = api.statuses_lookup(chunk, tweet_mode='extended')\n",
    "    tweet_dates.extend([status.created_at for status in statuses])\n",
    "    tweet_texts.extend([status.full_text for status in statuses])"
   ]
  },
  {
   "cell_type": "code",
   "execution_count": 14,
   "metadata": {},
   "outputs": [],
   "source": [
    "# combine id, date and text into a DataFrame\n",
    "tweets_dict = {'id':tweet_ids, 'date':tweet_dates, 'text':tweet_texts}\n",
    "tweets = pd.DataFrame(tweets_dict)"
   ]
  },
  {
   "cell_type": "code",
   "execution_count": 15,
   "metadata": {},
   "outputs": [
    {
     "name": "stdout",
     "output_type": "stream",
     "text": [
      "<class 'pandas.core.frame.DataFrame'>\n",
      "RangeIndex: 15831 entries, 0 to 15830\n",
      "Data columns (total 3 columns):\n",
      "id      15831 non-null object\n",
      "date    15831 non-null datetime64[ns]\n",
      "text    15831 non-null object\n",
      "dtypes: datetime64[ns](1), object(2)\n",
      "memory usage: 371.2+ KB\n"
     ]
    }
   ],
   "source": [
    "tweets.info()"
   ]
  },
  {
   "cell_type": "markdown",
   "metadata": {},
   "source": [
    "## Traffic violations"
   ]
  },
  {
   "cell_type": "code",
   "execution_count": 2,
   "metadata": {},
   "outputs": [],
   "source": [
    "#df = pd.read_json('https://data.cityofnewyork.us/resource/nc67-uf89.json?$$app_token=zfhS7w7BeYBgPjVp9Dy8VNadO&$limit=999999999&violation=BIKE+LANE')"
   ]
  },
  {
   "cell_type": "code",
   "execution_count": 5,
   "metadata": {},
   "outputs": [],
   "source": [
    "query = (\"https://data.cityofnewyork.us/resource/nc67-uf89.json?\"\n",
    "        \"$$app_token=zfhS7w7BeYBgPjVp9Dy8VNadO\"\n",
    "        \"&$where=issue_date%20like%20'%252019%25'\"\n",
    "        \"&$limit=999999999\")"
   ]
  },
  {
   "cell_type": "code",
   "execution_count": 10,
   "metadata": {},
   "outputs": [
    {
     "name": "stderr",
     "output_type": "stream",
     "text": [
      "/anaconda3/envs/police/lib/python3.7/site-packages/IPython/core/interactiveshell.py:3058: DtypeWarning: Columns (7) have mixed types. Specify dtype option on import or set low_memory=False.\n",
      "  interactivity=interactivity, compiler=compiler, result=result)\n"
     ]
    }
   ],
   "source": [
    "df = pd.read_csv('Open_Parking_and_Camera_Violations.csv')"
   ]
  },
  {
   "cell_type": "code",
   "execution_count": 15,
   "metadata": {},
   "outputs": [
    {
     "data": {
      "text/plain": [
       "Plate                   object\n",
       "State                   object\n",
       "License Type            object\n",
       "Summons Number           int64\n",
       "Issue Date              object\n",
       "Violation Time          object\n",
       "Violation               object\n",
       "Judgment Entry Date     object\n",
       "Fine Amount            float64\n",
       "Penalty Amount         float64\n",
       "Interest Amount        float64\n",
       "Reduction Amount       float64\n",
       "Payment Amount         float64\n",
       "Amount Due             float64\n",
       "Precinct               float64\n",
       "County                  object\n",
       "Issuing Agency          object\n",
       "Violation Status        object\n",
       "Summons Image           object\n",
       "dtype: object"
      ]
     },
     "execution_count": 15,
     "metadata": {},
     "output_type": "execute_result"
    }
   ],
   "source": [
    "df.dtypes"
   ]
  },
  {
   "cell_type": "code",
   "execution_count": null,
   "metadata": {},
   "outputs": [],
   "source": [
    "# import data\n",
    "violations = pd.read_json(query, convert_dates=False)"
   ]
  },
  {
   "cell_type": "code",
   "execution_count": 59,
   "metadata": {},
   "outputs": [
    {
     "name": "stdout",
     "output_type": "stream",
     "text": [
      "<class 'pandas.core.frame.DataFrame'>\n",
      "RangeIndex: 5000 entries, 0 to 4999\n",
      "Data columns (total 19 columns):\n",
      "plate                  5000 non-null object\n",
      "state                  5000 non-null object\n",
      "license_type           5000 non-null object\n",
      "summons_number         5000 non-null int64\n",
      "issue_date             5000 non-null object\n",
      "violation_time         5000 non-null object\n",
      "violation              5000 non-null object\n",
      "fine_amount            5000 non-null int64\n",
      "penalty_amount         5000 non-null int64\n",
      "interest_amount        5000 non-null float64\n",
      "reduction_amount       5000 non-null float64\n",
      "payment_amount         5000 non-null float64\n",
      "amount_due             5000 non-null float64\n",
      "precinct               5000 non-null int64\n",
      "county                 4949 non-null object\n",
      "issuing_agency         5000 non-null object\n",
      "summons_image          5000 non-null object\n",
      "violation_status       496 non-null object\n",
      "judgment_entry_date    500 non-null object\n",
      "dtypes: float64(4), int64(4), object(11)\n",
      "memory usage: 742.3+ KB\n"
     ]
    }
   ],
   "source": [
    "violations.info()"
   ]
  },
  {
   "cell_type": "code",
   "execution_count": 60,
   "metadata": {},
   "outputs": [],
   "source": [
    "# convert time to appropriate format\n",
    "violations['violation_time'] = pd.to_datetime(violations.violation_time + 'M').dt.time\n",
    "# convert date to datetime\n",
    "violations['issue_date'] = pd.to_datetime(violations.issue_date, format='%m/%d/%Y')\n",
    "# make new column with date and time\n",
    "violations['issue_date_time'] = violations.apply(lambda row : pd.datetime.combine(row['issue_date'], row['violation_time']),1)\n",
    "# drop old columns\n",
    "violations.drop(['issue_date', 'violation_time'], axis=1, inplace=True)"
   ]
  },
  {
   "cell_type": "code",
   "execution_count": 63,
   "metadata": {},
   "outputs": [
    {
     "name": "stdout",
     "output_type": "stream",
     "text": [
      "<class 'pandas.core.frame.DataFrame'>\n",
      "RangeIndex: 5000 entries, 0 to 4999\n",
      "Data columns (total 18 columns):\n",
      "plate                  5000 non-null object\n",
      "state                  5000 non-null object\n",
      "license_type           5000 non-null object\n",
      "summons_number         5000 non-null int64\n",
      "violation              5000 non-null object\n",
      "fine_amount            5000 non-null int64\n",
      "penalty_amount         5000 non-null int64\n",
      "interest_amount        5000 non-null float64\n",
      "reduction_amount       5000 non-null float64\n",
      "payment_amount         5000 non-null float64\n",
      "amount_due             5000 non-null float64\n",
      "precinct               5000 non-null int64\n",
      "county                 4949 non-null object\n",
      "issuing_agency         5000 non-null object\n",
      "summons_image          5000 non-null object\n",
      "violation_status       496 non-null object\n",
      "judgment_entry_date    500 non-null object\n",
      "issue_date_time        5000 non-null datetime64[ns]\n",
      "dtypes: datetime64[ns](1), float64(4), int64(4), object(9)\n",
      "memory usage: 703.2+ KB\n"
     ]
    }
   ],
   "source": [
    "violations.info()"
   ]
  }
 ],
 "metadata": {
  "kernelspec": {
   "display_name": "police",
   "language": "python",
   "name": "police"
  },
  "language_info": {
   "codemirror_mode": {
    "name": "ipython",
    "version": 3
   },
   "file_extension": ".py",
   "mimetype": "text/x-python",
   "name": "python",
   "nbconvert_exporter": "python",
   "pygments_lexer": "ipython3",
   "version": "3.7.3"
  }
 },
 "nbformat": 4,
 "nbformat_minor": 2
}
