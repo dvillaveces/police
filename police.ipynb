{
 "cells": [
  {
   "cell_type": "code",
   "execution_count": null,
   "metadata": {},
   "outputs": [],
   "source": [
    "from datetime import datetime\n",
    "from itertools import zip_longest\n",
    "import tweepy, json\n",
    "import numpy as np\n",
    "import pandas as pd\n",
    "import matplotlib as mpl\n",
    "import matplotlib.pyplot as plt\n",
    "import geopandas as gp\n",
    "import contextily as ctx\n",
    "from shapely.geometry import Point\n",
    "\n",
    "%matplotlib inline\n",
    "\n",
    "pd.set_option('max_colwidth',280)"
   ]
  },
  {
   "cell_type": "code",
   "execution_count": null,
   "metadata": {},
   "outputs": [],
   "source": [
    "def round_labels(ax):\n",
    "    \"\"\"\n",
    "    Rounds the labels in the legends in a chloropleth so they are ints, not floats\n",
    "    \"\"\"\n",
    "    labels = ax.get_legend().get_texts()\n",
    "    for lbl in labels:\n",
    "        label_text = lbl.get_text()\n",
    "        lower = label_text.split()[0]\n",
    "        upper = label_text.split()[2]\n",
    "        new_text = f'{float(lower):,.0f} - {float(upper):,.0f}'\n",
    "        lbl.set_text(new_text)"
   ]
  },
  {
   "cell_type": "markdown",
   "metadata": {},
   "source": [
    "## Police Precincts"
   ]
  },
  {
   "cell_type": "code",
   "execution_count": null,
   "metadata": {},
   "outputs": [],
   "source": [
    "# load precint geo dataframe (from: https://data.cityofnewyork.us/Public-Safety/Police-Precincts/78dh-3ptz)\n",
    "precincts = gp.read_file('police_precincts.geojson')"
   ]
  },
  {
   "cell_type": "code",
   "execution_count": null,
   "metadata": {},
   "outputs": [],
   "source": [
    "precincts = precincts.to_crs(epsg=3857)"
   ]
  },
  {
   "cell_type": "code",
   "execution_count": null,
   "metadata": {},
   "outputs": [],
   "source": [
    "# make columns numeric\n",
    "cols = ['precinct', 'shape_area', 'shape_leng']\n",
    "precincts[cols] = precincts[cols].apply(pd.to_numeric)"
   ]
  },
  {
   "cell_type": "code",
   "execution_count": null,
   "metadata": {},
   "outputs": [],
   "source": [
    "fig, ax = plt.subplots(figsize=(14, 14))\n",
    "precincts.plot(ax=ax, alpha=0.5, edgecolor='dimgray', color='#005DB9')\n",
    "\n",
    "for i, point in precincts.set_index('precinct').buffer(0).representative_point().iteritems():\n",
    "    ax.annotate(s=i, xy=[point.x - 700, point.y - 400], color='k', fontsize=10)\n",
    "\n",
    "plt.title('NYPD Precincts', fontsize=18, fontweight='bold', loc='left')    \n",
    "\n",
    "ax.set_axis_off()\n",
    "ctx.add_basemap(ax, url=ctx.providers.CartoDB.VoyagerNoLabels)\n",
    "plt.savefig('precincts.png', bbox_inches='tight');"
   ]
  },
  {
   "cell_type": "markdown",
   "metadata": {},
   "source": [
    "## Bike lanes"
   ]
  },
  {
   "cell_type": "code",
   "execution_count": null,
   "metadata": {},
   "outputs": [],
   "source": [
    "# load bike lanes geo dataframe (can be found here: https://data.cityofnewyork.us/Transportation/Bicycle-Routes/7vsa-caz7)\n",
    "bike_lanes = gp.read_file('bicycle_routes.geojson')\n",
    "bike_lanes = bike_lanes.to_crs(epsg=3857)"
   ]
  },
  {
   "cell_type": "code",
   "execution_count": null,
   "metadata": {},
   "outputs": [],
   "source": [
    "# fix data types\n",
    "bike_lanes['lanecount'] = pd.to_numeric(bike_lanes.lanecount)\n",
    "bike_lanes['instdate'] = pd.to_datetime(bike_lanes.instdate, format='%Y-%m-%d')\n",
    "bike_lanes['instdate'] = bike_lanes.instdate.replace(datetime(1900, 1, 1), np.nan)\n",
    "bike_lanes['moddate'] = pd.to_datetime(bike_lanes.moddate, format='%Y-%m-%d', errors='coerce')"
   ]
  },
  {
   "cell_type": "code",
   "execution_count": null,
   "metadata": {},
   "outputs": [],
   "source": [
    "# drop off-road bike lanes\n",
    "idxs = bike_lanes[bike_lanes.onoffst == 'OFF'].index\n",
    "bike_lanes_clean = bike_lanes.drop(idxs)"
   ]
  },
  {
   "cell_type": "code",
   "execution_count": null,
   "metadata": {},
   "outputs": [],
   "source": [
    "# drop 'bike-friendly parking' lanes\n",
    "idxs = bike_lanes_clean[(bike_lanes_clean.tf_facilit == 'Bike-Friendly Parking') | (bike_lanes_clean.ft_facilit == 'Bike-Friendly Parking')].index\n",
    "bike_lanes_clean = bike_lanes_clean.drop(idxs)"
   ]
  },
  {
   "cell_type": "code",
   "execution_count": null,
   "metadata": {},
   "outputs": [],
   "source": [
    "# drop duplicates\n",
    "bike_lanes_clean = bike_lanes_clean.drop_duplicates()"
   ]
  },
  {
   "cell_type": "code",
   "execution_count": null,
   "metadata": {},
   "outputs": [],
   "source": [
    "def calculate_length(geom, bike_lanes_clean):\n",
    "    \"\"\"Takes one geometry and one geo dataframe and returns length of the intersection of the geometry\n",
    "    with all points in the geo dataframe\"\"\"\n",
    "    length = bike_lanes_clean.intersection(geom).length.sum()\n",
    "    return length"
   ]
  },
  {
   "cell_type": "code",
   "execution_count": null,
   "metadata": {},
   "outputs": [],
   "source": [
    "# apply calculate_length to precincts to calculate length of bike lanes in each precinct (in m)\n",
    "precincts['bike_lane_length'] = precincts.buffer(0).geometry.apply(calculate_length, bike_lanes_clean=bike_lanes_clean)"
   ]
  },
  {
   "cell_type": "code",
   "execution_count": null,
   "metadata": {},
   "outputs": [],
   "source": [
    "fig, ax = plt.subplots(figsize=(12, 12))\n",
    "precincts.plot(ax=ax, alpha=0.5, edgecolor='dimgray', color='#005DB9')\n",
    "bike_lanes_clean.plot(ax=ax, color='green')\n",
    "\n",
    "plt.title('NYC bike lanes by precinct', fontsize=18, fontweight='bold', loc='left')  \n",
    "\n",
    "ax.set_axis_off()\n",
    "ctx.add_basemap(ax, url=ctx.providers.CartoDB.VoyagerNoLabels)"
   ]
  },
  {
   "cell_type": "code",
   "execution_count": null,
   "metadata": {},
   "outputs": [],
   "source": [
    "# modify cmap so it doesn't start at white\n",
    "cmap = mpl.cm.Blues(np.linspace(0,1,20))\n",
    "cmap = mpl.colors.ListedColormap(cmap[3:,:-1])"
   ]
  },
  {
   "cell_type": "code",
   "execution_count": null,
   "metadata": {
    "scrolled": true
   },
   "outputs": [],
   "source": [
    "fig, ax = plt.subplots(figsize=(14, 14))\n",
    "precincts.plot(ax=ax, column='bike_lane_length', alpha=0.9, edgecolor='k', legend=True,\n",
    "              scheme='equal_interval', k=5, cmap=cmap,\n",
    "              legend_kwds={'loc': 'lower right', 'facecolor':'linen', 'title':'Bike lane length (m)'})\n",
    "\n",
    "round_labels(ax)\n",
    "\n",
    "ax.set_axis_off()\n",
    "plt.title('On-road NYC bike lane length by precinct', fontsize=18, fontweight='bold', loc='left')\n",
    "\n",
    "top_5 = precincts.sort_values(by=['bike_lane_length'], ascending=False).head()\n",
    "\n",
    "for i, point in top_5.set_index('precinct').representative_point().iteritems():\n",
    "    ax.annotate(s=i, xy=[point.x - 700, point.y - 200], color='w', fontsize=10)\n",
    "\n",
    "ctx.add_basemap(ax, url=ctx.providers.CartoDB.VoyagerNoLabels)\n",
    "plt.savefig('lane_by_precinct.png', bbox_inches='tight');"
   ]
  },
  {
   "cell_type": "markdown",
   "metadata": {},
   "source": [
    "## Traffic violations"
   ]
  },
  {
   "cell_type": "code",
   "execution_count": null,
   "metadata": {},
   "outputs": [],
   "source": [
    "# load selected columns of violations (from: https://data.cityofnewyork.us/City-Government/Open-Parking-and-Camera-Violations/nc67-uf89)\n",
    "cols = ['Summons Number', 'Issue Date', 'Violation', 'Precinct', 'County']\n",
    "violations = pd.read_csv('Open_Parking_and_Camera_Violations.csv', usecols=cols)"
   ]
  },
  {
   "cell_type": "code",
   "execution_count": null,
   "metadata": {},
   "outputs": [],
   "source": [
    "# rename columns\n",
    "violations.columns = violations.columns.str.replace(' ', '_').str.lower()"
   ]
  },
  {
   "cell_type": "code",
   "execution_count": null,
   "metadata": {},
   "outputs": [],
   "source": [
    "# convert date to datetime\n",
    "violations['issue_date'] = pd.to_datetime(violations['issue_date'], format='%m/%d/%Y', errors='coerce')"
   ]
  },
  {
   "cell_type": "code",
   "execution_count": null,
   "metadata": {},
   "outputs": [],
   "source": [
    "# drop rows with missing date\n",
    "violations = violations.dropna(axis=0, subset=['issue_date'])"
   ]
  },
  {
   "cell_type": "code",
   "execution_count": null,
   "metadata": {},
   "outputs": [],
   "source": [
    "# make violation not upper\n",
    "violations['violation'] = violations.violation.str.capitalize()"
   ]
  },
  {
   "cell_type": "code",
   "execution_count": null,
   "metadata": {},
   "outputs": [],
   "source": [
    "# set date as index\n",
    "violations.set_index('issue_date', inplace=True)"
   ]
  },
  {
   "cell_type": "code",
   "execution_count": null,
   "metadata": {},
   "outputs": [],
   "source": [
    "bike_violations = violations[violations.violation == 'Bike lane'].copy()\n",
    "bike_violations = bike_violations[bike_violations.index < datetime(2019, 12, 1)]\n",
    "bike_viol_by_month = bike_violations.resample('M').size()\n",
    "\n",
    "\n",
    "fig, ax = plt.subplots(figsize=(20, 10))\n",
    "bike_viol_by_month.loc['2016':'2019'].plot(fontsize=14, linewidth=3)\n",
    "plt.annotate('Citywide Bicycle Safe Passage Initiative', fontsize=12,\n",
    "             xy=('2019-07', bike_viol_by_month.loc['2019-07']),\n",
    "             xytext=(-260, -50), textcoords='offset points',\n",
    "             arrowprops=dict(arrowstyle=\"->\", connectionstyle=\"angle,angleA=90,angleB=0,rad=10\"))\n",
    "\n",
    "ax.spines['right'].set_visible(False)\n",
    "ax.spines['top'].set_visible(False)\n",
    "plt.xlabel('Violation date', fontsize=14)\n",
    "plt.ylabel('Number of summons', fontsize=14)\n",
    "ax.get_yaxis().set_major_formatter(plt.FuncFormatter(lambda x, loc: \"{:,}\".format(int(x))))\n",
    "plt.title('Bike lane summons in NYC', loc='left', fontsize=18, fontweight='bold')\n",
    "plt.savefig('timeline.png', bbox_inches = \"tight\");"
   ]
  },
  {
   "cell_type": "code",
   "execution_count": null,
   "metadata": {},
   "outputs": [],
   "source": [
    "# extract 2019 violations only\n",
    "violations_2019 = violations.loc['2019']"
   ]
  },
  {
   "cell_type": "code",
   "execution_count": null,
   "metadata": {},
   "outputs": [],
   "source": [
    "# drop rows that happened after Nov 2019\n",
    "violations_2019 = violations_2019[violations_2019.index < datetime(2019, 12, 1)]"
   ]
  },
  {
   "cell_type": "code",
   "execution_count": null,
   "metadata": {},
   "outputs": [],
   "source": [
    "# plot top 25 violations in 2019\n",
    "bike_prop = 100 * len(violations_2019[violations_2019.violation == 'Bike lane']) / violations_2019.shape[0]\n",
    "\n",
    "ax = violations_2019.violation.value_counts()[:25].iloc[::-1].plot(kind='barh', figsize=(20, 12), fontsize=14,\n",
    "                                                                   width=0.8, color='tab:gray')\n",
    "\n",
    "ax.spines['right'].set_visible(False)\n",
    "ax.spines['top'].set_visible(False)\n",
    "ax.spines['bottom'].set_visible(False)\n",
    "ax.spines['left'].set_visible(False)\n",
    "ax.set_title('Top 25 Traffic Violations in NYC in 2019', loc='left', fontsize=18, fontweight='bold')\n",
    "\n",
    "ax.get_xaxis().set_major_formatter(plt.FuncFormatter(lambda x, loc: \"{:,}\".format(int(x))))\n",
    "\n",
    "for patch in ax.patches:\n",
    "    ax.text(patch.get_width()+15000, patch.get_y()+0.2, '{:,}'.format(patch.get_width()), fontsize=14)\n",
    "\n",
    "ax.text(600000, 4, f'Bike lane violations represented {round(bike_prop, 2)}% of NYC traffic violations in 2019',\n",
    "        fontsize=16, fontweight='bold', color='tab:blue')\n",
    "\n",
    "ax.patches[4].set_color('tab:blue')\n",
    "ax.get_xaxis().set_visible(False)\n",
    "plt.savefig('top_violations.png', bbox_inches = \"tight\");"
   ]
  },
  {
   "cell_type": "code",
   "execution_count": null,
   "metadata": {},
   "outputs": [],
   "source": [
    "# select 2019 bike lane violations only\n",
    "bike_violations_2019 = violations_2019[violations_2019.violation == 'Bike lane'].copy()"
   ]
  },
  {
   "cell_type": "code",
   "execution_count": null,
   "metadata": {},
   "outputs": [],
   "source": [
    "# make precinct an integer\n",
    "bike_violations_2019['precinct'] = pd.to_numeric(bike_violations_2019['precinct'], downcast='integer')"
   ]
  },
  {
   "cell_type": "code",
   "execution_count": null,
   "metadata": {},
   "outputs": [],
   "source": [
    "# drop rows with non-existent (i.e. missing) precincts\n",
    "bike_violations_2019 = bike_violations_2019[bike_violations_2019.precinct.isin(precincts.precinct)]"
   ]
  },
  {
   "cell_type": "code",
   "execution_count": null,
   "metadata": {},
   "outputs": [],
   "source": [
    "# calculate number of bike violations by precinct\n",
    "bike_viol_19_by_precinct = bike_violations_2019.groupby('precinct').size().to_frame(name='n_bike_violations').reset_index()"
   ]
  },
  {
   "cell_type": "code",
   "execution_count": null,
   "metadata": {},
   "outputs": [],
   "source": [
    "# merge precincts with number of bike violations in 2019 & fill nan with 0\n",
    "precincts_merged = pd.merge(precincts, bike_viol_19_by_precinct, how='left')\n",
    "precincts_merged['n_bike_violations'].fillna(0, downcast='int', inplace=True)"
   ]
  },
  {
   "cell_type": "code",
   "execution_count": null,
   "metadata": {},
   "outputs": [],
   "source": [
    "fig, ax = plt.subplots(figsize=(14, 14))\n",
    "precincts_merged.plot(column='n_bike_violations', ax=ax, scheme='equal_interval', k=5, cmap='Blues', \n",
    "                      legend=True, alpha=0.9, edgecolor='k', \n",
    "                      legend_kwds={'loc': 'lower right', 'facecolor':'linen', 'title':'Bike lane violations'})\n",
    "\n",
    "round_labels(ax)\n",
    "\n",
    "ax.set_axis_off()\n",
    "ctx.add_basemap(ax, url=ctx.providers.CartoDB.VoyagerNoLabels)\n",
    "plt.title('Bike lane violations by police precinct (2019)', loc='left', fontsize=18, fontweight='bold');"
   ]
  },
  {
   "cell_type": "code",
   "execution_count": null,
   "metadata": {},
   "outputs": [],
   "source": [
    "# add column to precincts calculating violations per km of bike lane in each precinct\n",
    "precincts_merged['violations_per_km'] = precincts_merged.n_bike_violations / (precincts_merged.bike_lane_length / 1000)"
   ]
  },
  {
   "cell_type": "code",
   "execution_count": null,
   "metadata": {},
   "outputs": [],
   "source": [
    "fig, ax = plt.subplots(figsize=(14, 14))\n",
    "precincts_merged.plot(column='violations_per_km', ax=ax, scheme='equal_interval', k=5, cmap='Blues', legend=True, \n",
    "                      alpha=0.9, edgecolor='k', \n",
    "                      legend_kwds={'loc': 'lower right', 'facecolor':'linen', 'title':'Violations per km of bike lane'})\n",
    "\n",
    "top_5 = precincts_merged.sort_values(by=['violations_per_km'], ascending=False).head()\n",
    "\n",
    "for i, point in top_5.set_index('precinct').representative_point().iteritems():\n",
    "    ax.annotate(s=i, xy=[point.x - 700, point.y - 200], color='w', fontsize=10)\n",
    "\n",
    "round_labels(ax)\n",
    "ax.set_axis_off()\n",
    "ctx.add_basemap(ax, url=ctx.providers.CartoDB.VoyagerNoLabels)\n",
    "plt.title('Bike lane violations per km of bike lane by police precinct (2019)', loc='left', fontsize=18, fontweight='bold')\n",
    "plt.savefig('vio_per_km.png', bbox_inches='tight');"
   ]
  },
  {
   "cell_type": "code",
   "execution_count": null,
   "metadata": {},
   "outputs": [],
   "source": [
    "bike_viol_H1_2019 = violations[violations.violation == 'Bike lane'].loc['2019-01':'2019-06']\n",
    "bike_viol_H1_2018 = violations[violations.violation == 'Bike lane'].loc['2018-01':'2018-06']\n",
    "\n",
    "print(f'Summons 1H 2018: {bike_viol_H1_2018.shape[0]}')\n",
    "print(f'Summons 1H 2019: {bike_viol_H1_2019.shape[0]}')"
   ]
  },
  {
   "cell_type": "code",
   "execution_count": null,
   "metadata": {},
   "outputs": [],
   "source": [
    "print('Number of summonses in June-July 2019')\n",
    "print('June 2019:', bike_violations_2019 .loc['2019-06'].shape[0]) \n",
    "print('July 2019:', bike_violations_2019 .loc['2019-07'].shape[0])"
   ]
  },
  {
   "cell_type": "markdown",
   "metadata": {},
   "source": [
    "## 311 Data"
   ]
  },
  {
   "cell_type": "code",
   "execution_count": null,
   "metadata": {},
   "outputs": [],
   "source": [
    "# load 311 data (from: https://data.cityofnewyork.us/Social-Services/311-Service-Requests-from-2010-to-Present/erm2-nwe9)\n",
    "cols = ['Unique Key', 'Created Date', 'Complaint Type', 'Descriptor', 'Latitude', 'Longitude']\n",
    "reports_311 = pd.read_csv('311_Service_Requests_from_2010_to_Present.csv', usecols=cols)"
   ]
  },
  {
   "cell_type": "code",
   "execution_count": null,
   "metadata": {},
   "outputs": [],
   "source": [
    "# rename columns\n",
    "reports_311.columns = reports_311.columns.str.replace(' ', '_').str.lower()"
   ]
  },
  {
   "cell_type": "code",
   "execution_count": null,
   "metadata": {},
   "outputs": [],
   "source": [
    "# convert date to datetime\n",
    "reports_311['created_date'] = pd.to_datetime(reports_311['created_date'], format='%m/%d/%Y %I:%M:%S %p', errors='coerce')"
   ]
  },
  {
   "cell_type": "code",
   "execution_count": null,
   "metadata": {},
   "outputs": [],
   "source": [
    "# set date as index\n",
    "reports_311.set_index('created_date', inplace=True)"
   ]
  },
  {
   "cell_type": "code",
   "execution_count": null,
   "metadata": {},
   "outputs": [],
   "source": [
    "# get data for 2019 only\n",
    "reports_311_2019 = reports_311.loc['2019'].copy()"
   ]
  },
  {
   "cell_type": "code",
   "execution_count": null,
   "metadata": {},
   "outputs": [],
   "source": [
    "# get bike reports only\n",
    "bike_reports_2019 = reports_311_2019[reports_311_2019.descriptor == 'Blocked Bike Lane'].copy()"
   ]
  },
  {
   "cell_type": "code",
   "execution_count": null,
   "metadata": {},
   "outputs": [],
   "source": [
    "# drop reports with missing coordinates\n",
    "bike_reports_2019 = bike_reports_2019[bike_reports_2019.latitude.notna()]"
   ]
  },
  {
   "cell_type": "code",
   "execution_count": null,
   "metadata": {},
   "outputs": [],
   "source": [
    "# create a geometry column \n",
    "geometry = [Point(xy) for xy in zip(bike_reports_2019.longitude, bike_reports_2019.latitude)]\n",
    "\n",
    "# Coordinate reference system\n",
    "crs = {'init': 'epsg:4326'}\n",
    "\n",
    "# make GeoDataFrame\n",
    "bike_reports_2019 = gp.GeoDataFrame(bike_reports_2019, crs=crs, geometry=geometry)"
   ]
  },
  {
   "cell_type": "code",
   "execution_count": null,
   "metadata": {},
   "outputs": [],
   "source": [
    "bike_reports_2019 = bike_reports_2019.to_crs(epsg=3857)"
   ]
  },
  {
   "cell_type": "code",
   "execution_count": null,
   "metadata": {},
   "outputs": [],
   "source": [
    "fig, ax = plt.subplots(figsize=(12, 12))\n",
    "bike_reports_2019.plot(ax=ax, markersize=2)\n",
    "ax.set_axis_off()\n",
    "ctx.add_basemap(ax, url=ctx.providers.CartoDB.VoyagerNoLabels)"
   ]
  },
  {
   "cell_type": "code",
   "execution_count": null,
   "metadata": {},
   "outputs": [],
   "source": [
    "# join geo dataframes to get which reports happened in which precinct\n",
    "bike_reports_joined = gp.sjoin(bike_reports_2019, precincts_merged, how='inner', op='within')"
   ]
  },
  {
   "cell_type": "code",
   "execution_count": null,
   "metadata": {},
   "outputs": [],
   "source": [
    "# get number of bike reports by precinct\n",
    "bike_reports_by_precinct = bike_reports_joined.groupby('precinct').size().to_frame(name='n_311_reports').reset_index()"
   ]
  },
  {
   "cell_type": "code",
   "execution_count": null,
   "metadata": {},
   "outputs": [],
   "source": [
    "# merge bike reports by precinct onto precincts DF\n",
    "precincts_merged = pd.merge(precincts_merged, bike_reports_by_precinct, how='left')\n",
    "precincts_merged['n_311_reports'].fillna(0, downcast='int', inplace=True)"
   ]
  },
  {
   "cell_type": "markdown",
   "metadata": {},
   "source": [
    "## Twitter data"
   ]
  },
  {
   "cell_type": "markdown",
   "metadata": {},
   "source": [
    "311 data is incomplete. I know that some bike lane reports are done to 311 not under the 'Blocked Bike Lane' complaint type, but under the 'For Hire Vehicle Complaint'. Specifically, I know a lot of these reports are done using a popular App called [Reported](https://reportedly.weebly.com/). Even though all of these reports are included in the 311 database, it is impossible to know which of the 'For Hire Vehicle Complaint' reports are due to bike lane obstruction vs any other issue with for-hire vehicles. I therefore decided to supplement the 311 'Blocked Bike Lane' reports with some reports done with and tweeted by the Reported app."
   ]
  },
  {
   "cell_type": "code",
   "execution_count": null,
   "metadata": {},
   "outputs": [],
   "source": [
    "# open file with scraped tweet ids (run scrape.py first)\n",
    "with open('all_ids.json', 'r') as json_file:\n",
    "    tweet_ids = json.load(json_file)"
   ]
  },
  {
   "cell_type": "code",
   "execution_count": null,
   "metadata": {},
   "outputs": [],
   "source": [
    "# authorize and initialize API\n",
    "access_token = ''\n",
    "access_token_secret = ''\n",
    "consumer_key = ''\n",
    "consumer_secret = ''\n",
    "\n",
    "auth = tweepy.OAuthHandler(consumer_key, consumer_secret)\n",
    "auth.set_access_token(access_token, access_token_secret)\n",
    "api = tweepy.API(auth, wait_on_rate_limit=True)"
   ]
  },
  {
   "cell_type": "code",
   "execution_count": null,
   "metadata": {},
   "outputs": [],
   "source": [
    "def grouper(iterable, n, fillvalue=None):\n",
    "    \"\"\"Collect data into fixed-length chunks or blocks\n",
    "    grouper('ABCDEFG', 3, 'x') --> ABC DEF Gxx\"\"\"\n",
    "    args = [iter(iterable)] * n\n",
    "    return zip_longest(*args, fillvalue=fillvalue)"
   ]
  },
  {
   "cell_type": "code",
   "execution_count": null,
   "metadata": {},
   "outputs": [],
   "source": [
    "# iterate over 100-id chunks and get date and text for each tweet id\n",
    "ids = []\n",
    "tweet_dates = []\n",
    "tweet_texts = []\n",
    "for chunk in grouper(tweet_ids, 100):\n",
    "    statuses = api.statuses_lookup(chunk, tweet_mode='extended')\n",
    "    ids.extend([status.id for status in statuses])\n",
    "    tweet_dates.extend([status.created_at for status in statuses])\n",
    "    tweet_texts.extend([status.full_text for status in statuses])"
   ]
  },
  {
   "cell_type": "code",
   "execution_count": null,
   "metadata": {},
   "outputs": [],
   "source": [
    "# combine id, date and text into a DataFrame\n",
    "tweets_dict = {'id':ids, 'date':tweet_dates, 'text':tweet_texts}\n",
    "tweets = pd.DataFrame(tweets_dict)"
   ]
  },
  {
   "cell_type": "code",
   "execution_count": null,
   "metadata": {},
   "outputs": [],
   "source": [
    "# select tweets that relate to bike lane only\n",
    "bike_tweets = tweets[tweets.text.str.contains('BlockedBikeNYC')].copy()"
   ]
  },
  {
   "cell_type": "code",
   "execution_count": null,
   "metadata": {},
   "outputs": [],
   "source": [
    "# select tweets that deal with taxis only\n",
    "bike_tweets = bike_tweets[bike_tweets.text.str.contains('#nyctaxi')].copy()"
   ]
  },
  {
   "cell_type": "code",
   "execution_count": null,
   "metadata": {},
   "outputs": [],
   "source": [
    "# extract precint number from tweet text`\n",
    "bike_tweets['precinct'] = bike_tweets.text.str.extract(r'#NYPD(\\d+|MTS)')"
   ]
  },
  {
   "cell_type": "code",
   "execution_count": null,
   "metadata": {},
   "outputs": [],
   "source": [
    "# drop rows with no precinct\n",
    "bike_tweets.dropna(inplace=True)"
   ]
  },
  {
   "cell_type": "code",
   "execution_count": null,
   "metadata": {},
   "outputs": [],
   "source": [
    "# replace MTS (Midtown South) for precinct number and make it an integer\n",
    "bike_tweets['precinct'] = bike_tweets.precinct.str.replace('MTS', '14', regex=False)\n",
    "bike_tweets['precinct'] = pd.to_numeric(bike_tweets.precinct)"
   ]
  },
  {
   "cell_type": "code",
   "execution_count": null,
   "metadata": {},
   "outputs": [],
   "source": [
    "# get number of reports by precinct\n",
    "bike_tweets_by_precinct = bike_tweets.groupby('precinct').size().to_frame(name='n_twitter_reports').reset_index()"
   ]
  },
  {
   "cell_type": "code",
   "execution_count": null,
   "metadata": {},
   "outputs": [],
   "source": [
    "# merge precincts df with twitter reports\n",
    "precincts_merged = pd.merge(precincts_merged, bike_tweets_by_precinct, how='left')\n",
    "precincts_merged['n_twitter_reports'].fillna(0, downcast='int', inplace=True)"
   ]
  },
  {
   "cell_type": "code",
   "execution_count": null,
   "metadata": {},
   "outputs": [],
   "source": [
    "# new column with total reports (311 + twitter)\n",
    "precincts_merged['total_reports'] = precincts_merged.n_311_reports + precincts_merged.n_twitter_reports"
   ]
  },
  {
   "cell_type": "code",
   "execution_count": null,
   "metadata": {},
   "outputs": [],
   "source": [
    "# calculate new column with reports per km of bike lane\n",
    "precincts_merged['reports_per_km'] = precincts_merged.total_reports / (precincts_merged.bike_lane_length / 1000)"
   ]
  },
  {
   "cell_type": "code",
   "execution_count": null,
   "metadata": {},
   "outputs": [],
   "source": [
    "fig, ax = plt.subplots(figsize=(14, 14))\n",
    "precincts_merged.plot(column='reports_per_km', ax=ax, scheme='quantiles', k=5, cmap='Blues', legend=True, alpha=0.9, edgecolor='k',\n",
    "                      legend_kwds={'loc': 'lower right', 'facecolor':'linen', 'title':'311 reports per km of bike lane'})\n",
    "\n",
    "limit = precincts_merged.reports_per_km.quantile(q=0.8)\n",
    "top_quantile = precincts_merged[precincts_merged.reports_per_km > limit]\n",
    "\n",
    "for i, point in top_quantile.set_index('precinct').buffer(0).representative_point().iteritems():\n",
    "    ax.annotate(s=i, xy=[point.x - 700, point.y - 200], color='w', fontsize=10)\n",
    "\n",
    "labels = ax.get_legend().get_texts()\n",
    "new_labels = ['Bottom quintile', '2nd quintile', '3rd quintile', '4th quintile', 'Top quintile']\n",
    "for lbl, new_lbl in zip(labels, new_labels):\n",
    "    lbl.set_text(new_lbl)\n",
    "\n",
    "ax.set_axis_off()\n",
    "ctx.add_basemap(ax, url=ctx.providers.CartoDB.VoyagerNoLabels)\n",
    "plt.title('Bike lane reports per km of bike lane by police precinct (2019)', loc='left', fontsize=18, fontweight='bold')\n",
    "plt.savefig('reports.png', bbox_inches='tight');"
   ]
  }
 ],
 "metadata": {
  "kernelspec": {
   "display_name": "Python 3",
   "language": "python",
   "name": "python3"
  },
  "language_info": {
   "codemirror_mode": {
    "name": "ipython",
    "version": 3
   },
   "file_extension": ".py",
   "mimetype": "text/x-python",
   "name": "python",
   "nbconvert_exporter": "python",
   "pygments_lexer": "ipython3",
   "version": "3.8.0"
  }
 },
 "nbformat": 4,
 "nbformat_minor": 2
}
